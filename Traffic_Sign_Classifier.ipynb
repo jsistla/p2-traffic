{
 "cells": [
  {
   "cell_type": "markdown",
   "metadata": {},
   "source": [
    "# Self-Driving Car Engineer Nanodegree\n",
    "\n",
    "## Deep Learning\n",
    "\n",
    "## Project: Build a Traffic Sign Recognition Classifier\n",
    "\n",
    "In this notebook, a template is provided for you to implement your functionality in stages which is required to successfully complete this project. If additional code is required that cannot be included in the notebook, be sure that the Python code is successfully imported and included in your submission, if necessary. Sections that begin with **'Implementation'** in the header indicate where you should begin your implementation for your project. Note that some sections of implementation are optional, and will be marked with **'Optional'** in the header.\n",
    "\n",
    "In addition to implementing code, there will be questions that you must answer which relate to the project and your implementation. Each section where you will answer a question is preceded by a **'Question'** header. Carefully read each question and provide thorough answers in the following text boxes that begin with **'Answer:'**. Your project submission will be evaluated based on your answers to each of the questions and the implementation you provide.\n",
    "\n",
    ">**Note:** Code and Markdown cells can be executed using the **Shift + Enter** keyboard shortcut. In addition, Markdown cells can be edited by typically double-clicking the cell to enter edit mode."
   ]
  },
  {
   "cell_type": "markdown",
   "metadata": {},
   "source": [
    "---\n",
    "## Step 0: Load The Data"
   ]
  },
  {
   "cell_type": "code",
   "execution_count": null,
   "metadata": {
    "collapsed": false
   },
   "outputs": [],
   "source": [
    "#import necessary packages \n",
    "import numpy as np\n",
    "import tensorflow as tf\n",
    "import pickle\n",
    "import matplotlib.pyplot as plt\n",
    "import random\n",
    "from sklearn.utils import shuffle\n",
    "from tensorflow.contrib.layers import flatten\n",
    "from sklearn.model_selection import train_test_split\n",
    "import cv2\n",
    "\n",
    "\n",
    "%matplotlib inline\n"
   ]
  },
  {
   "cell_type": "code",
   "execution_count": null,
   "metadata": {
    "collapsed": true
   },
   "outputs": [],
   "source": [
    "# TODO: Fill this in based on where you saved the training and testing data\n",
    "\n",
    "training_file = \"Data/train.p\"\n",
    "testing_file =  \"Data/test.p\"\n",
    "\n",
    "with open(training_file, mode='rb') as f:\n",
    "    train = pickle.load(f)\n",
    "with open(testing_file, mode='rb') as f:\n",
    "    test = pickle.load(f)\n",
    "    \n",
    "X_train, y_train = train['features'], train['labels']\n",
    "X_test, y_test = test['features'], test['labels']"
   ]
  },
  {
   "cell_type": "markdown",
   "metadata": {},
   "source": [
    "---\n",
    "\n",
    "## Step 1: Dataset Summary & Exploration\n",
    "\n",
    "The pickled data is a dictionary with 4 key/value pairs:\n",
    "\n",
    "- `'features'` is a 4D array containing raw pixel data of the traffic sign images, (num examples, width, height, channels).\n",
    "- `'labels'` is a 2D array containing the label/class id of the traffic sign. The file `signnames.csv` contains id -> name mappings for each id.\n",
    "- `'sizes'` is a list containing tuples, (width, height) representing the the original width and height the image.\n",
    "- `'coords'` is a list containing tuples, (x1, y1, x2, y2) representing coordinates of a bounding box around the sign in the image. **THESE COORDINATES ASSUME THE ORIGINAL IMAGE. THE PICKLED DATA CONTAINS RESIZED VERSIONS (32 by 32) OF THESE IMAGES**\n",
    "\n",
    "Complete the basic data summary below."
   ]
  },
  {
   "cell_type": "code",
   "execution_count": null,
   "metadata": {
    "collapsed": false
   },
   "outputs": [],
   "source": [
    "### Setting training and test set here.\n",
    "\n",
    "# Number of training examples\n",
    "n_train = X_train.shape[0]\n",
    "\n",
    "# Number of testing examples.\n",
    "n_test = X_test.shape[0]\n",
    "\n",
    "# What's the shape of an traffic sign image?\n",
    "image_shape = (X_train.shape[1], X_train.shape[2])\n",
    "\n",
    "# How many unique classes/labels there are in the dataset.\n",
    "n_classes = len(set(y_train))\n",
    "\n",
    "print(\"Number of training examples =\", n_train)\n",
    "print(\"Number of testing examples =\", n_test)\n",
    "print(\"Image data shape =\", image_shape)\n",
    "print(\"Number of classes =\", n_classes)"
   ]
  },
  {
   "cell_type": "markdown",
   "metadata": {},
   "source": [
    "Visualize the German Traffic Signs Dataset using the pickled file(s). This is open ended, suggestions include: plotting traffic sign images, plotting the count of each sign, etc.\n",
    "\n",
    "The [Matplotlib](http://matplotlib.org/) [examples](http://matplotlib.org/examples/index.html) and [gallery](http://matplotlib.org/gallery.html) pages are a great resource for doing visualizations in Python.\n",
    "\n",
    "**NOTE:** It's recommended you start with something simple first. If you wish to do more, come back to it after you've completed the rest of the sections."
   ]
  },
  {
   "cell_type": "code",
   "execution_count": null,
   "metadata": {
    "collapsed": true
   },
   "outputs": [],
   "source": [
    "### Data exploration visualization goes next\n",
    "\n",
    "import numpy as np\n",
    "import matplotlib.pyplot as plt\n",
    "# Visualizations will be shown in the notebook.\n",
    "%matplotlib inline\n",
    "import cv2"
   ]
  },
  {
   "cell_type": "markdown",
   "metadata": {},
   "source": [
    "---\n",
    "### Normalization process "
   ]
  },
  {
   "cell_type": "code",
   "execution_count": null,
   "metadata": {
    "collapsed": false,
    "scrolled": false
   },
   "outputs": [],
   "source": [
    "###Lets do shuffling and visualize image with our normalization process \n",
    "from sklearn.utils import shuffle\n",
    "X_train, y_train = shuffle(X_train, y_train)\n",
    "\n",
    "im = 0\n",
    "# Copy the image\n",
    "orig = np.copy(X_train[0,...])\n",
    "print('Label: %d' % (y_train[im]))\n",
    "\n",
    "# Convert to grayscale\n",
    "grayscale = cv2.cvtColor(orig, cv2.COLOR_BGR2GRAY)\n",
    "\n",
    "# Equalize the histogram\n",
    "eq_gray_hist = cv2.equalizeHist(grayscale)\n",
    "\n",
    "# Normalize the values\n",
    "norm_gray = eq_gray_hist/255. - 0.5\n",
    "\n",
    "# Plot the results\n",
    "fig = plt.figure()\n",
    "\n",
    "#show the original plot\n",
    "grid = plt.subplot(2,2,1)\n",
    "grid.set_title('Original')\n",
    "grid.imshow(orig)\n",
    "\n",
    "#show the grayscale picture\n",
    "grid = plt.subplot(2,2,2)\n",
    "grid.set_title('Grayscale')\n",
    "grid.imshow(grayscale, cmap='gray')\n",
    "\n",
    "#show the equalized histogram picture\n",
    "grid = plt.subplot(2,2,3)\n",
    "grid.set_title('Equalized Histogram')\n",
    "grid.imshow(eq_gray_hist, cmap='gray')\n",
    "\n",
    "#show the normalized picture\n",
    "grid = plt.subplot(2,2,4)\n",
    "grid.set_title('Normalized')\n",
    "grid.imshow(norm_gray, cmap='gray')\n",
    "\n",
    "plt.tight_layout()\n",
    "plt.show()"
   ]
  },
  {
   "cell_type": "code",
   "execution_count": null,
   "metadata": {
    "collapsed": false
   },
   "outputs": [],
   "source": [
    "# Create a barchart of frequencies\n",
    "# Display highest count and lowest count of classes\n",
    "\n",
    "assert (n_classes == len( np.unique(y_train) )), '1 or more class(es) not represented in training set'\n",
    "        \n",
    "def class_freq_hig_low_count(y, verbose=False):\n",
    "    num_classes = len(np.unique(y))\n",
    "    n_imgs_per_class = np.zeros( num_classes )\n",
    "\n",
    "    for this_class in range( num_classes ):\n",
    "        if verbose: \n",
    "            print('class {} | count {}'.format(this_class, np.sum( y  == this_class )) )\n",
    "        n_imgs_per_class[this_class] = np.sum(y == this_class )\n",
    "    \n",
    "    return n_imgs_per_class\n",
    "\n",
    "\n",
    "class_freq = class_freq_hig_low_count(y_train)\n",
    "print('------- ')\n",
    "print('Highest count: {} (class {})'.format(np.max(class_freq), np.argmax(class_freq)))\n",
    "print('Lowest count: {} (class {})'.format(np.min(class_freq), np.argmin(class_freq)))\n",
    "print('------- ')\n",
    "plt.bar(np.arange(n_classes), class_freq , align='center')\n",
    "plt.xlabel('class')\n",
    "plt.ylabel('Frequency')\n",
    "plt.xlim([-1, 43])\n",
    "plt.title(\"class frequency in Training set\")\n",
    "plt.show()"
   ]
  },
  {
   "cell_type": "markdown",
   "metadata": {},
   "source": [
    "----\n",
    "\n",
    "## Step 2: Design and Test a Model Architecture\n",
    "\n",
    "Design and implement a deep learning model that learns to recognize traffic signs. Train and test your model on the [German Traffic Sign Dataset](http://benchmark.ini.rub.de/?section=gtsrb&subsection=dataset).\n",
    "\n",
    "There are various aspects to consider when thinking about this problem:\n",
    "\n",
    "- Neural network architecture\n",
    "- Play around preprocessing techniques (normalization, rgb to grayscale, etc)\n",
    "- Number of examples per label (some have more than others).\n",
    "- Generate fake data.\n",
    "\n",
    "Here is an example of a [published baseline model on this problem](http://yann.lecun.com/exdb/publis/pdf/sermanet-ijcnn-11.pdf). It's not required to be familiar with the approach used in the paper but, it's good practice to try to read papers like these.\n",
    "\n",
    "**NOTE:** The LeNet-5 implementation shown in the [classroom](https://classroom.udacity.com/nanodegrees/nd013/parts/fbf77062-5703-404e-b60c-95b78b2f3f9e/modules/6df7ae49-c61c-4bb2-a23e-6527e69209ec/lessons/601ae704-1035-4287-8b11-e2c2716217ad/concepts/d4aca031-508f-4e0b-b493-e7b706120f81) at the end of the CNN lesson is a solid starting point. You'll have to change the number of classes and possibly the preprocessing, but aside from that it's plug and play!"
   ]
  },
  {
   "cell_type": "markdown",
   "metadata": {},
   "source": [
    "### Implementation\n",
    "\n",
    "Converting images to gray scale reduces the total size of the dataset by 66% by going from 3 color channels to just 1. This will improve the speed of the algorithm without sacrificing much information. The main features of a traffic sign are present in the shapes of the signs. OpenCV provides helper functions to make these transformations with just a few lines of code.\n",
    "\n",
    "Using the normalization method outlined above, we create the function pre_process_gray to generalize the method to multiple images."
   ]
  },
  {
   "cell_type": "code",
   "execution_count": null,
   "metadata": {
    "collapsed": true
   },
   "outputs": [],
   "source": [
    "### Preprocess the data here.\n",
    "### Doing here pre processing ,converting the image to greyscale \n",
    "def pre_process_gray(images):\n",
    "    # Convert images to grayscale histogram equalize,\n",
    "    tmp = []\n",
    "    for i in range(images.shape[0]):\n",
    "        gray = cv2.cvtColor(images[i,...], cv2.COLOR_BGR2GRAY)\n",
    "        gray = cv2.equalizeHist(gray)\n",
    "        norm_grey = gray/255. - 0.5\n",
    "        tmp.append(norm_grey)\n",
    "        \n",
    "    tmp = np.array(tmp)\n",
    "    return tmp[...,np.newaxis]\n",
    "\n",
    "\n",
    "def center_normalization(X_train):\n",
    "    x_train = X_train.astype(np.float32)\n",
    "    x_train -= np.mean(x_train, axis=0)\n",
    "    x_train /= np.std(x_train, axis=0)\n",
    "\n",
    "    return x_train"
   ]
  },
  {
   "cell_type": "code",
   "execution_count": null,
   "metadata": {
    "collapsed": false
   },
   "outputs": [],
   "source": [
    "print(\"Original Data Dimensions:\\nData: %r | Labels: %r\\n\" % (X_train.shape, y_train.shape))\n",
    "\n",
    "X_train = pre_process_gray(X_train)\n",
    "#X_train = center_normalization(X_train)\n",
    "print(\"Pre-Processed Data Dimensions:\\nData: %r | Labels: %r\\n\" % (X_train.shape, y_train.shape))"
   ]
  },
  {
   "cell_type": "markdown",
   "metadata": {},
   "source": [
    "### Question 1 \n",
    "\n",
    "_Describe how you preprocessed the data. Why did you choose that technique?_"
   ]
  },
  {
   "cell_type": "markdown",
   "metadata": {},
   "source": [
    "**Answer:**\n",
    "\n",
    "1) The first step I took to pre-process the images was to convert them to grayscale.\n",
    "\n",
    "2) I chose to convert them to grayscale by a process of elimination.\n",
    "\n",
    "3) Converting images to gray scale reduces the total size of the dataset by 66% by going from 3 color channels to just 1. \n",
    "\n",
    "4) This will improve the speed of the algorithm without sacrificing much information. \n",
    "\n",
    "5) The main features of a traffic sign are present in the shapes of the signs. OpenCV provides helper functions to make these transformations with just a few lines of code.\n",
    "\n",
    "6) The method I chose to use was equalizing the histogram of the image, as it was easy to implement with cv2.\n",
    "\n",
    "7) I normalized the pixel range to between [-0.5, 0.5] to create a well-conditioned problem for the optimizer to converge to a solution.\n"
   ]
  },
  {
   "cell_type": "markdown",
   "metadata": {},
   "source": [
    "### Question 2\n",
    "\n",
    "_Describe how you set up the training, validation and testing data for your model. **Optional**: If you generated additional data, how did you generate the data? Why did you generate the data? What are the differences in the new dataset (with generated data) from the original dataset?_"
   ]
  },
  {
   "cell_type": "markdown",
   "metadata": {},
   "source": [
    "**Answer**\n",
    "\n",
    "**Data Augmentation**\n",
    "\n",
    "Now that our images are transformed and normalized, we need to expand the dataset to give the model a better chance of converging to a solution.\n",
    "\n",
    "I did look into differnet papers that had the same topic , the way they addressed creating additional data from given data set. Affine transform is one approach of them. \n",
    "\n",
    "\n",
    "Affine transformations are any linear transformation of a matrix which maintains the parrallelism of the lines in the image. When viewing an object from a fixed viewpoint, we can simulate the view of the same object from a different viewpoint by using affine transformations.\n",
    "Examples of such transformations include rotation, translation, and shear.\n",
    "\n",
    "Using the below function, we will create randomized transformations of our training images to simulate viewing the traffic signs from different angles, with the hope that this will make our model more robust in classification of new images.\n",
    "\n",
    "This is one such paper that i came across, that explained me mathematically about affine transform http://merganser.math.gvsu.edu/david/reed03/notes/chap4.pdf \n",
    "\n",
    "opencv tutorial that i read for this is \n",
    "http://opencv-python-tutroals.readthedocs.io/en/latest/py_tutorials/py_imgproc/py_geometric_transformations/py_geometric_transformations.html"
   ]
  },
  {
   "cell_type": "code",
   "execution_count": null,
   "metadata": {
    "collapsed": true
   },
   "outputs": [],
   "source": [
    "### Generate data additional data (OPTIONAL!)\n",
    "\n",
    "def transformation_fun(image, angle, shear, translation):\n",
    "    ang_rot = np.random.uniform(angle) - angle/2\n",
    "    rows, cols, color_channels = image.shape\n",
    "    rotation_matrix = cv2.getRotationMatrix2D((cols/2, rows/2), angle, 1)\n",
    "\n",
    "    trans_x = translation*np.random.uniform() - translation/2\n",
    "    trans_y = translation*np.random.uniform() - translation/2\n",
    "    translation_matrix = np.array([[1, 0, trans_x],[0, 1, trans_y]]).astype('float32')\n",
    "    \n",
    "    pts1 = np.array([[5,5],[20,5],[5,20]]).astype('float32')\n",
    "    \n",
    "    pt1 = 5 + shear*np.random.uniform()- shear/2\n",
    "    pt2 = 20 + shear*np.random.uniform()- shear/2\n",
    "    \n",
    "    pts2 = np.float32([[pt1,5],[pt2,pt1],[5,pt2]])\n",
    "\n",
    "    shear_matrix = cv2.getAffineTransform(pts1, pts2)\n",
    "        \n",
    "    image = cv2.warpAffine(image, rotation_matrix, (cols,rows))\n",
    "    image = cv2.warpAffine(image, translation_matrix,(cols,rows))\n",
    "    image = cv2.warpAffine(image, shear_matrix, (cols,rows))\n",
    "    \n",
    "    return image"
   ]
  },
  {
   "cell_type": "markdown",
   "metadata": {},
   "source": [
    "***Test an Image ***"
   ]
  },
  {
   "cell_type": "code",
   "execution_count": null,
   "metadata": {
    "collapsed": false
   },
   "outputs": [],
   "source": [
    "im = 0\n",
    "\n",
    "out_transformed_image = transformation_fun(X_train[im,...], 20, 10, 5)\n",
    "stacked = np.dstack((X_train[im,...], out_transformed_image))\n",
    "\n",
    "grid = plt.subplot(1,2,1)\n",
    "plt.imshow(stacked[...,0], cmap='gray')\n",
    "\n",
    "grid = plt.subplot(1,2,2)\n",
    "plt.imshow(out_transformed_image, cmap='gray')\n",
    "\n",
    "plt.tight_layout()"
   ]
  },
  {
   "cell_type": "markdown",
   "metadata": {},
   "source": [
    "Now we need to scaling factors to increase the images count, \n",
    "we already have the images frequency calculated above under class_freq_hig_low_count \n",
    "\n",
    "the logic follwed is as below :\n",
    "\n",
    "for  <500 observations, increase count by 10x\n",
    "\n",
    "for  <1000 observations, increase count by 5x\n",
    "\n",
    "Else, for any other class increase count by 2x"
   ]
  },
  {
   "cell_type": "code",
   "execution_count": null,
   "metadata": {
    "collapsed": true
   },
   "outputs": [],
   "source": [
    "segregated_data = []\n",
    "class_obs = []\n",
    "\n",
    "for class_ in range(n_classes):\n",
    "    segregated_class = X_train[y_train == class_,...]\n",
    "    segregated_data.append(segregated_class)\n",
    "    class_obs.append(segregated_class.shape[0])"
   ]
  },
  {
   "cell_type": "code",
   "execution_count": null,
   "metadata": {
    "collapsed": true
   },
   "outputs": [],
   "source": [
    "def expand_class(images, n_obs):\n",
    "    transformed_images = []\n",
    "    \n",
    "    if n_obs < 500: factor = 10\n",
    "    elif n_obs < 1000: factor = 5\n",
    "    else: factor = 2\n",
    "    \n",
    "    for image in images:\n",
    "        for _ in range(factor-1):\n",
    "            transformed_images.append(transformation_fun(image, 20, 10, 5))\n",
    "    \n",
    "    transformed_images = np.array(transformed_images)\n",
    "    transformed_images = transformed_images[...,np.newaxis]\n",
    "    expanded_class = np.concatenate((images, transformed_images), axis=0)\n",
    "    return (expanded_class, expanded_class.shape[0])"
   ]
  },
  {
   "cell_type": "code",
   "execution_count": null,
   "metadata": {
    "collapsed": false
   },
   "outputs": [],
   "source": [
    "expanded_data = None\n",
    "expanded_labels = None\n",
    "\n",
    "for class_, images in enumerate(segregated_data):\n",
    "    if expanded_data is None:\n",
    "        expanded_data, obs = expand_class(images, class_obs[class_])\n",
    "        expanded_labels = np.full(obs, class_, dtype='int64')\n",
    "    else:\n",
    "        tmp, obs = expand_class(images, class_obs[class_])\n",
    "        expanded_data = np.concatenate((expanded_data, tmp), axis=0)\n",
    "        expanded_labels = np.concatenate((expanded_labels, np.full(obs, class_, dtype='int64')), axis=0)\n",
    "\n",
    "del segregated_data, class_obs\n",
    "print(\"Expanded Data Dims:\\nData: %r | Labels: %r\\n\" % (expanded_data.shape, expanded_labels.shape))"
   ]
  },
  {
   "cell_type": "code",
   "execution_count": null,
   "metadata": {
    "collapsed": false,
    "scrolled": true
   },
   "outputs": [],
   "source": [
    "\n",
    "class_freq = class_freq_hig_low_count(expanded_labels)\n",
    "print('------- ')\n",
    "print('Highest count: {} (class {})'.format(np.max(class_freq), np.argmax(class_freq)))\n",
    "print('Lowest count: {} (class {})'.format(np.min(class_freq), np.argmin(class_freq)))\n",
    "print('------- ')\n",
    "plt.bar(np.arange(n_classes), class_freq , align='center')\n",
    "plt.xlabel('class')\n",
    "plt.ylabel('Frequency')\n",
    "plt.xlim([-1, 43])\n",
    "plt.title(\"class frequency in Training set\")\n",
    "plt.show()"
   ]
  },
  {
   "cell_type": "markdown",
   "metadata": {},
   "source": [
    "We see that our transform works fine. we need to prepare helper functions for expanding the data "
   ]
  },
  {
   "cell_type": "markdown",
   "metadata": {},
   "source": [
    "Now that the data set expansion is done , we need to split this data into training and validation sets.next step is to divide the data into training set and validation set. For this i will have to create a function for data division , keeping 80% for training and 20 % for validation. "
   ]
  },
  {
   "cell_type": "code",
   "execution_count": null,
   "metadata": {
    "collapsed": true
   },
   "outputs": [],
   "source": [
    "def train_valid_set_split(data, labels, train_percent):\n",
    "    n_obs = data.shape[0]\n",
    "    assert n_obs == labels.shape[0], \"Different number of images and labels\"\n",
    "    \n",
    "    data, labels = shuffle(data, labels)\n",
    "    \n",
    "    cutoff = np.round(train_percent * n_obs).astype('int64')\n",
    "    \n",
    "    train = (data[:cutoff,...], labels[:cutoff])\n",
    "    val = (data[cutoff:,...], labels[cutoff:])\n",
    "    \n",
    "    assert train[0].shape[0] + val[0].shape[0] == n_obs, \"I fucked up\"\n",
    "    return (train, val)"
   ]
  },
  {
   "cell_type": "code",
   "execution_count": null,
   "metadata": {
    "collapsed": false
   },
   "outputs": [],
   "source": [
    "train_percent = 0.8\n",
    "\n",
    "expanded_labels = one_hot(expanded_labels)\n",
    "train, val = train_valid_set_split(expanded_data, expanded_labels, train_percent)\n",
    "\n",
    "X_test, y_test = pre_process_gray(X_test), one_hot(y_test)\n",
    "test = (X_test, y_test)\n",
    "\n",
    "print(\"Train Size: %d | Val Size: %d | Test Size: %d\"\n",
    "     % (train[0].shape[0], val[0].shape[0], test[0].shape[0]))\n"
   ]
  },
  {
   "cell_type": "code",
   "execution_count": null,
   "metadata": {
    "collapsed": true
   },
   "outputs": [],
   "source": [
    "def leaky_relu(x, alpha=0.1):\n",
    "    import tensorflow as tf\n",
    "    \n",
    "    alpha = tf.constant(alpha)\n",
    "    return tf.maximum(alpha*x, x)"
   ]
  },
  {
   "cell_type": "code",
   "execution_count": null,
   "metadata": {
    "collapsed": true
   },
   "outputs": [],
   "source": [
    "from utils import ConvNet\n",
    "\n",
    "signal_class = ConvNet(batch_size=64, color_channels=1, image_shape=(32,32), \n",
    "                         n_classes=43, learning_rate=1e-3)\n",
    "\n",
    "\n",
    "signal_class.conv2d('L0', kernel_size=1, depth=3, ACTIVATION=leaky_relu)\n",
    "\n",
    "signal_class.conv2d('L1_1', kernel_size=3, depth=32, input_padding=1, ACTIVATION=leaky_relu)\n",
    "signal_class.conv2d('L1_2', kernel_size=3, depth=32, input_padding=1, ACTIVATION=leaky_relu)\n",
    "signal_class.pool2d('MAX')\n",
    "\n",
    "signal_class.conv2d('L2_1', kernel_size=3, depth=64, input_padding=2, ACTIVATION=leaky_relu)\n",
    "signal_class.conv2d('L2_2', kernel_size=3, depth=64, input_padding=2, ACTIVATION=leaky_relu)\n",
    "signal_class.pool2d('MAX')\n",
    "\n",
    "signal_class.conv2d('L3_1', kernel_size=3, depth=128, input_padding=1, ACTIVATION=leaky_relu)\n",
    "signal_class.conv2d('L3_2', kernel_size=3, depth=128, input_padding=1, ACTIVATION=leaky_relu)\n",
    "signal_class.pool2d('MAX')\n",
    "\n",
    "signal_class.fully_connected('FC1', 1024)\n",
    "signal_class.fully_connected('FC2', 512)\n",
    "signal_class.fully_connected('OUT', 43, ACTIVATION=None)"
   ]
  },
  {
   "cell_type": "code",
   "execution_count": null,
   "metadata": {
    "collapsed": false
   },
   "outputs": [],
   "source": [
    "signal_class.train(train, val, training_epochs=1000, l2_beta=0.001, threshold=0.982)"
   ]
  },
  {
   "cell_type": "code",
   "execution_count": null,
   "metadata": {
    "collapsed": true
   },
   "outputs": [],
   "source": [
    "### Define your architecture here.\n",
    "### Feel free to use as many code cells as needed."
   ]
  },
  {
   "cell_type": "markdown",
   "metadata": {},
   "source": [
    "### Question 3\n",
    "\n",
    "_What does your final architecture look like? (Type of model, layers, sizes, connectivity, etc.)  For reference on how to build a deep neural network using TensorFlow, see [Deep Neural Network in TensorFlow\n",
    "](https://classroom.udacity.com/nanodegrees/nd013/parts/fbf77062-5703-404e-b60c-95b78b2f3f9e/modules/6df7ae49-c61c-4bb2-a23e-6527e69209ec/lessons/b516a270-8600-4f93-a0a3-20dfeabe5da6/concepts/83a3a2a2-a9bd-4b7b-95b0-eb924ab14432) from the classroom._\n"
   ]
  },
  {
   "cell_type": "markdown",
   "metadata": {},
   "source": [
    "**Answer:**"
   ]
  },
  {
   "cell_type": "code",
   "execution_count": null,
   "metadata": {
    "collapsed": true
   },
   "outputs": [],
   "source": [
    "### Train your model here.\n",
    "### Feel free to use as many code cells as needed."
   ]
  },
  {
   "cell_type": "markdown",
   "metadata": {},
   "source": [
    "### Question 4\n",
    "\n",
    "_How did you train your model? (Type of optimizer, batch size, epochs, hyperparameters, etc.)_\n"
   ]
  },
  {
   "cell_type": "markdown",
   "metadata": {},
   "source": [
    "**Answer:**"
   ]
  },
  {
   "cell_type": "markdown",
   "metadata": {},
   "source": [
    "### Question 5\n",
    "\n",
    "\n",
    "_What approach did you take in coming up with a solution to this problem? It may have been a process of trial and error, in which case, outline the steps you took to get to the final solution and why you chose those steps. Perhaps your solution involved an already well known implementation or architecture. In this case, discuss why you think this is suitable for the current problem._"
   ]
  },
  {
   "cell_type": "markdown",
   "metadata": {},
   "source": [
    "**Answer:**"
   ]
  },
  {
   "cell_type": "markdown",
   "metadata": {},
   "source": [
    "---\n",
    "\n",
    "## Step 3: Test a Model on New Images\n",
    "\n",
    "Take several pictures of traffic signs that you find on the web or around you (at least five), and run them through your classifier on your computer to produce example results. The classifier might not recognize some local signs but it could prove interesting nonetheless.\n",
    "\n",
    "You may find `signnames.csv` useful as it contains mappings from the class id (integer) to the actual sign name."
   ]
  },
  {
   "cell_type": "markdown",
   "metadata": {},
   "source": [
    "### Implementation\n",
    "\n",
    "Use the code cell (or multiple code cells, if necessary) to implement the first step of your project. Once you have completed your implementation and are satisfied with the results, be sure to thoroughly answer the questions that follow."
   ]
  },
  {
   "cell_type": "code",
   "execution_count": null,
   "metadata": {
    "collapsed": true
   },
   "outputs": [],
   "source": [
    "### Load the images and plot them here.\n",
    "### Feel free to use as many code cells as needed."
   ]
  },
  {
   "cell_type": "markdown",
   "metadata": {},
   "source": [
    "### Question 6\n",
    "\n",
    "_Choose five candidate images of traffic signs and provide them in the report. Are there any particular qualities of the image(s) that might make classification difficult? It could be helpful to plot the images in the notebook._\n",
    "\n"
   ]
  },
  {
   "cell_type": "markdown",
   "metadata": {},
   "source": [
    "**Answer:**"
   ]
  },
  {
   "cell_type": "code",
   "execution_count": null,
   "metadata": {
    "collapsed": true
   },
   "outputs": [],
   "source": [
    "### Run the predictions here.\n",
    "### Feel free to use as many code cells as needed."
   ]
  },
  {
   "cell_type": "markdown",
   "metadata": {},
   "source": [
    "### Question 7\n",
    "\n",
    "_Is your model able to perform equally well on captured pictures when compared to testing on the dataset? The simplest way to do this check the accuracy of the predictions. For example, if the model predicted 1 out of 5 signs correctly, it's 20% accurate._\n",
    "\n",
    "_**NOTE:** You could check the accuracy manually by using `signnames.csv` (same directory). This file has a mapping from the class id (0-42) to the corresponding sign name. So, you could take the class id the model outputs, lookup the name in `signnames.csv` and see if it matches the sign from the image._\n"
   ]
  },
  {
   "cell_type": "markdown",
   "metadata": {},
   "source": [
    "**Answer:**"
   ]
  },
  {
   "cell_type": "code",
   "execution_count": null,
   "metadata": {
    "collapsed": true
   },
   "outputs": [],
   "source": [
    "### Visualize the softmax probabilities here.\n",
    "### Feel free to use as many code cells as needed."
   ]
  },
  {
   "cell_type": "markdown",
   "metadata": {},
   "source": [
    "### Question 8\n",
    "\n",
    "*Use the model's softmax probabilities to visualize the **certainty** of its predictions, [`tf.nn.top_k`](https://www.tensorflow.org/versions/r0.12/api_docs/python/nn.html#top_k) could prove helpful here. Which predictions is the model certain of? Uncertain? If the model was incorrect in its initial prediction, does the correct prediction appear in the top k? (k should be 5 at most)*\n",
    "\n",
    "`tf.nn.top_k` will return the values and indices (class ids) of the top k predictions. So if k=3, for each sign, it'll return the 3 largest probabilities (out of a possible 43) and the correspoding class ids.\n",
    "\n",
    "Take this numpy array as an example:\n",
    "\n",
    "```\n",
    "# (5, 6) array\n",
    "a = np.array([[ 0.24879643,  0.07032244,  0.12641572,  0.34763842,  0.07893497,\n",
    "         0.12789202],\n",
    "       [ 0.28086119,  0.27569815,  0.08594638,  0.0178669 ,  0.18063401,\n",
    "         0.15899337],\n",
    "       [ 0.26076848,  0.23664738,  0.08020603,  0.07001922,  0.1134371 ,\n",
    "         0.23892179],\n",
    "       [ 0.11943333,  0.29198961,  0.02605103,  0.26234032,  0.1351348 ,\n",
    "         0.16505091],\n",
    "       [ 0.09561176,  0.34396535,  0.0643941 ,  0.16240774,  0.24206137,\n",
    "         0.09155967]])\n",
    "```\n",
    "\n",
    "Running it through `sess.run(tf.nn.top_k(tf.constant(a), k=3))` produces:\n",
    "\n",
    "```\n",
    "TopKV2(values=array([[ 0.34763842,  0.24879643,  0.12789202],\n",
    "       [ 0.28086119,  0.27569815,  0.18063401],\n",
    "       [ 0.26076848,  0.23892179,  0.23664738],\n",
    "       [ 0.29198961,  0.26234032,  0.16505091],\n",
    "       [ 0.34396535,  0.24206137,  0.16240774]]), indices=array([[3, 0, 5],\n",
    "       [0, 1, 4],\n",
    "       [0, 5, 1],\n",
    "       [1, 3, 5],\n",
    "       [1, 4, 3]], dtype=int32))\n",
    "```\n",
    "\n",
    "Looking just at the first row we get `[ 0.34763842,  0.24879643,  0.12789202]`, you can confirm these are the 3 largest probabilities in `a`. You'll also notice `[3, 0, 5]` are the corresponding indices."
   ]
  },
  {
   "cell_type": "markdown",
   "metadata": {},
   "source": [
    "**Answer:**"
   ]
  },
  {
   "cell_type": "markdown",
   "metadata": {},
   "source": [
    "> **Note**: Once you have completed all of the code implementations and successfully answered each question above, you may finalize your work by exporting the iPython Notebook as an HTML document. You can do this by using the menu above and navigating to  \\n\",\n",
    "    \"**File -> Download as -> HTML (.html)**. Include the finished document along with this notebook as your submission."
   ]
  },
  {
   "cell_type": "code",
   "execution_count": null,
   "metadata": {
    "collapsed": true
   },
   "outputs": [],
   "source": []
  },
  {
   "cell_type": "code",
   "execution_count": null,
   "metadata": {
    "collapsed": true
   },
   "outputs": [],
   "source": []
  }
 ],
 "metadata": {
  "anaconda-cloud": {},
  "kernelspec": {
   "display_name": "Python 3",
   "language": "python",
   "name": "python3"
  },
  "language_info": {
   "codemirror_mode": {
    "name": "ipython",
    "version": 3
   },
   "file_extension": ".py",
   "mimetype": "text/x-python",
   "name": "python",
   "nbconvert_exporter": "python",
   "pygments_lexer": "ipython3",
   "version": "3.5.2"
  },
  "widgets": {
   "state": {},
   "version": "1.1.2"
  }
 },
 "nbformat": 4,
 "nbformat_minor": 1
}
